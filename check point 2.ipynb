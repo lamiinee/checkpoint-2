{
 "cells": [
  {
   "cell_type": "code",
   "execution_count": 2,
   "id": "03854865",
   "metadata": {},
   "outputs": [],
   "source": [
    "#exercice 1\n",
    "prénom = input('entrez votre prénom:')\n",
    "nom = input(\"entrez votre nom:\")\n",
    "print(nom + ' ' + prénom)\n",
    "\n",
    "\n"
   ]
  },
  {
   "cell_type": "code",
   "execution_count": null,
   "id": "30229304",
   "metadata": {},
   "outputs": [],
   "source": [
    "#exercice 2\n",
    "num = 2 #je crée une variable de base \n",
    "num1 = 2**2 #je crée une autre variable pour après additionner le tout\n",
    "num2 = 2**3\n",
    "print(num + num1 + num2)"
   ]
  },
  {
   "cell_type": "code",
   "execution_count": null,
   "id": "eca9452a",
   "metadata": {},
   "outputs": [],
   "source": [
    "#exercice 3\n",
    "nombre = int(input('Entrez un nombre entier:'))\n",
    "# pour savoir si un nombre est pair, la division de ce nombre par deux doit donner 0. nous allons donc poser une variable comme étant le reste obtenu lors de la division du nombre entré par l’utilisateur par deux. \n",
    "\n",
    "remainder = nombre % 2\n",
    "# % permet de trouver le reste d'une division ou remainder en anglais\n",
    "# ainsi, nous pouvons poser une condition pour savoir si le nombre entré est pair ou impair. \n",
    "\n",
    "if (remainder == 0):\n",
    "    print(nombre , \"est un nombre pair\")\n",
    "else: \n",
    "    print(nombre , 'est un nombre impair')"
   ]
  },
  {
   "cell_type": "code",
   "execution_count": 3,
   "id": "221459f4",
   "metadata": {},
   "outputs": [
    {
     "ename": "IndentationError",
     "evalue": "unexpected indent (446214835.py, line 4)",
     "output_type": "error",
     "traceback": [
      "\u001b[0;36m  File \u001b[0;32m\"/var/folders/lr/nbypy8dj41x5ygdk9q2gl90h0000gn/T/ipykernel_14834/446214835.py\"\u001b[0;36m, line \u001b[0;32m4\u001b[0m\n\u001b[0;31m    exo4 = [ x for x in range(2000, 3201) if x % 7 == 0 and x % 5 != 0 ]\u001b[0m\n\u001b[0m    ^\u001b[0m\n\u001b[0;31mIndentationError\u001b[0m\u001b[0;31m:\u001b[0m unexpected indent\n"
     ]
    }
   ],
   "source": [
    "#exercice 4 \n",
    " \n",
    " #créer une variable x tel que x est compris dans l'intervalle (2000,3200). poser une condition tel que x ne soit pas un multiple de 5 mais soit divisible par 7. \n",
    " exo4 = [ x for x in range(2000, 3201) if x % 7 == 0 and x % 5 != 0 ]\n",
    " # j'ai mis 3201 car le dernier chiffre est exclu\n",
    "print(exo4)\n",
    "\n"
   ]
  },
  {
   "cell_type": "code",
   "execution_count": null,
   "id": "8b7a9ff5",
   "metadata": {},
   "outputs": [],
   "source": [
    "#exercice 5\n",
    "#créons une variable n tel que n soit un int \n",
    "n = int(input('entrez un nombre :'))\n",
    "# la factorielle de 0 étant égal à 1 poser la condition suivante\n",
    "if n == 0 :\n",
    "    print('la factorielle de 0 est 1')\n",
    "# créons une autre variable m tel que m soit différent de 0 ou égal à 1\n",
    "else: \n",
    "# pour i dans l'intervalle 1 jusqu’à n + 1, m est égal à i*m\n",
    "    m = 1\n",
    "    for i in range(1, n+1):\n",
    "        m = m * i\n",
    "    print('la factorielle de' , n ,'est', m)\n",
    "    "
   ]
  },
  {
   "cell_type": "code",
   "execution_count": 4,
   "id": "1c75610d",
   "metadata": {},
   "outputs": [
    {
     "name": "stdout",
     "output_type": "stream",
     "text": [
      "entrez un motmoy\n",
      "my\n"
     ]
    }
   ],
   "source": [
    "#exercice 6\n",
    "exo6 = str(input('entrez un mot'))\n",
    "exo6_=''\n",
    "for i in range(len(exo6)):\n",
    "    # si i est un nombre pair dans la liste,\n",
    "    if i%2==0:\n",
    "        # rajouter une valeur à exo6 en faisant +=. \n",
    "       exo6_+=exo6[i] \n",
    "print(exo6_)"
   ]
  },
  {
   "cell_type": "code",
   "execution_count": null,
   "id": "d5b12f35",
   "metadata": {},
   "outputs": [],
   "source": [
    "#exercice 7\n",
    "exo7 = int(input('entrez votre prix'))\n",
    "# si exo7 est supérieur à 500, il y aura 50% de réduction soit exo7-0,5*exo7\n",
    "if exo7>0:\n",
    "    if exo7 >= 500:\n",
    "        g = exo7 * 0.5\n",
    "    if exo7 in range(200,500):\n",
    "       g = exo7 * 0.3\n",
    "    else:\n",
    "        g = exo7 * 0.1\n",
    "print('votre réduction est de ',g)\n",
    "print ('votre nouveau prix est' ,exo7 - g)\n",
    "\n",
    "#je n'arrivais pas à trouver la solution car à la place de point j'avais mis de virgules par exemple: 0.1 pas 0,1\n",
    "\n"
   ]
  },
  {
   "cell_type": "code",
   "execution_count": null,
   "id": "20844d83",
   "metadata": {},
   "outputs": [],
   "source": []
  }
 ],
 "metadata": {
  "kernelspec": {
   "display_name": "Python 3 (ipykernel)",
   "language": "python",
   "name": "python3"
  },
  "language_info": {
   "codemirror_mode": {
    "name": "ipython",
    "version": 3
   },
   "file_extension": ".py",
   "mimetype": "text/x-python",
   "name": "python",
   "nbconvert_exporter": "python",
   "pygments_lexer": "ipython3",
   "version": "3.9.13"
  }
 },
 "nbformat": 4,
 "nbformat_minor": 5
}
